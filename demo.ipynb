{
 "cells": [
  {
   "cell_type": "markdown",
   "metadata": {},
   "source": [
    "# **GenAI Agents Workshop!!!**\n",
    "### **Agenda:**\n",
    "1. What is an agent?\n",
    "2. Notable tools/frameworks \n",
    "3. Basic agent setup\n",
    "4. Quick survey of best models in as of now\n",
    "5. Your turn - brainstorming / office hours session"
   ]
  },
  {
   "cell_type": "markdown",
   "metadata": {},
   "source": [
    "## **1. What is an agent?**\n",
    "Realistically - no well defined answer, but there's 3 things people mean when they say \"agent\":\n",
    "\n",
    "1. **LLMs working independently**\n",
    "    - Can reliably use interfaces like a web browser, API, etc.\n",
    "    - Make decisions with little to no human guidance\n",
    "    - Ex. LLM reviews and automatically organizes PRs on GitHub.\n",
    "2. **LLMs working with other LLMs**\n",
    "    - Why multiple agents? Either they exist via multiple parties (ex. Microsoft coding agent tries to fix bug with Nvidia coding agent for a Windows CUDA bug), or each LLM has a specific task and does it well\n",
    "3. **LLMs improving based on feedback from environment**\n",
    "    - Just as humans do, LLMs react to new information around them and adjust accordingly - similar to #1.\n",
    "    - Ex. In the event of a system outage LLM redirects customers of a service to alternative offerings, notifies them of the outage, etc.\n",
    "\n",
    "\n",
    "Further reading:\n",
    "* [Google Agents Whitepaper](https://www.kaggle.com/whitepaper-agents)\n",
    "* [Microsoft on Agents](https://www.microsoft.com/en-us/research/wp-content/uploads/2024/02/AgentAI_position.pdf)"
   ]
  },
  {
   "cell_type": "markdown",
   "metadata": {},
   "source": [
    "## **2. Tools/frameworks to note**\n",
    "There's been quite a bit of work done to make developing agentic systems easier:\n",
    "* [Langchain](https://www.langchain.com/):\n",
    "    * Create graphs with 1+ LLMs to work together\n",
    "    * Comprehensive SDK (also kind of complicated, best for complex setups)\n",
    "* [outlines (dottext-ai)](https://github.com/dottxt-ai/outlines)\n",
    "    * Enables structured text generation (i.e. CSV, JSON schemas, custom grammar, etc.)\n",
    "    * Helps feed LLM output into API/other tool\n",
    "* [MCP - Model Context Protocol (Anthropic)](https://www.anthropic.com/news/model-context-protocol)\n",
    "    * USB for LLMs - connect different APIs/tools with LLMs\n",
    "    * Another way to think about it - app store for LLMs to extend their functionality\n",
    "    * Try it in Claude Desktop!\n",
    "    * One missing feature: no webhook support"
   ]
  },
  {
   "cell_type": "code",
   "execution_count": null,
   "metadata": {
    "vscode": {
     "languageId": "shellscript"
    }
   },
   "outputs": [],
   "source": [
    "# Install tools\n",
    "# Windows (powershell or winget) - recommended over WSL to avoid having to setup GUI on WSL\n",
    "# !powershell -ExecutionPolicy ByPass -c \"irm https://astral.sh/uv/install.ps1 | iex\"\n",
    "!winget install --id=astral-sh.uv  -e\n",
    "\n",
    "# Mac/Linux\n",
    "#!curl -LsSf https://astral.sh/uv/install.sh | less\n"
   ]
  },
  {
   "cell_type": "code",
   "execution_count": null,
   "metadata": {
    "vscode": {
     "languageId": "shellscript"
    }
   },
   "outputs": [],
   "source": [
    "# Env setup\n",
    "!uv sync\n",
    "!playwright install chromium"
   ]
  },
  {
   "cell_type": "markdown",
   "metadata": {},
   "source": [
    "## API Keys\n",
    "We'll be using Gemini for this demo, because it's free and has a decent API. Go to aistudio.google.com and get a free API key.\n",
    "\n",
    "Then create a file `.env` and add the following line:\n",
    "```bash\n",
    "\n",
    "GOOGLE_API_KEY=<API KEY GOES HERE>\n",
    "\n",
    "```"
   ]
  },
  {
   "cell_type": "markdown",
   "metadata": {},
   "source": [
    "## **Browser Use Demo**\n",
    "There are quite a few tools out there to turn LLMs into agents, but perhaps the single most useful one is letting models interact with web browsers. We'll show a very minimal demo to let models perform a search for housing given some constraints, and put a few matches into a CSV File.\n",
    "\n",
    "Check out browser use [here](https://browser-use.com/)."
   ]
  },
  {
   "cell_type": "code",
   "execution_count": null,
   "metadata": {},
   "outputs": [],
   "source": [
    "from langchain_google_genai import ChatGoogleGenerativeAI\n",
    "from browser_use import Agent, Controller\n",
    "from dotenv import load_dotenv\n",
    "from pydantic import BaseModel\n",
    "from typing import List\n",
    "\n",
    "load_dotenv()\n",
    "\n",
    "class Entry(BaseModel):\n",
    "    url: str\n",
    "    monthly_rent: int\n",
    "    addr: str\n",
    "    apartment_name: str\n",
    "\n",
    "class Entries(BaseModel):\n",
    "    data: List[Entry]\n",
    "\n",
    "async def main():\n",
    "    agent = Agent(\n",
    "        task=\"\"\"\n",
    "        I'm looking for housing in Seattle, WA. My budget is $1400 for a 1 br 1 bath unit, should have in-unit laundry. Find at least 2 units available for June 2025 move-in. Avoid zillow.com for searching. Be sure to output the apartment's url, monthly rent, address, and name\n",
    "        \"\"\",\n",
    "        llm=ChatGoogleGenerativeAI(model=\"gemini-2.0-flash\"),\n",
    "        controller=Controller(output_model=Entries)\n",
    "    )\n",
    "    history = await agent.run()\n",
    "    res = history.final_result()\n",
    "    print(res)\n",
    "\n",
    "await main()"
   ]
  },
  {
   "cell_type": "markdown",
   "metadata": {},
   "source": [
    "### **Your turn!**\n",
    "\n",
    "You have 2 options:\n",
    "\n",
    "1. Finish the demo: Your job is to design + implement a system that can autonomously perform the housing search for you - the demo finds leads as it is, but the website/listing may be out of date, may require filling out an application, etc. The system is up to you, but there should be a strong case that the user does not have to perform more work than laying out their housing needs.\n",
    "\n",
    "Ideas:\n",
    "* Email MCP to reach out to property managers to inquire for housing\n",
    "* Find roommates on social networks (Discord, SMS, etc.) with your accounts to find someone to live with.\n",
    "* Google Maps MCP API to find housing more reliably, find nearby places (e.g. you want to live close to your work office).\n",
    "* Be creative, think of something yourself!!!\n",
    "\n",
    "2. Come up with your own problem to automate with agents!! Some ideas:\n",
    "* **Joining a lab at GT:** A lot of people have trouble finding an interesting lab to join that is willing to take them. Design a system that can find labs at GT, email the professor with a well-crafted message, and highlight your own relevant skills.\n",
    "* **Proactive securities market researcher:** People miss out on good times to buy stocks (think gamestop, tarriff drop, etc.) - have a system ingest new info as it comes in and evaluate whether it's worth buying/selling/doing something else.\n",
    "\n",
    "\n",
    "*Note: MTC will cover any API costs for the workshop :)*"
   ]
  },
  {
   "cell_type": "markdown",
   "metadata": {},
   "source": [
    "### Available Models\n",
    "* Gemini\n",
    "    - 2.5 Pro, **currently ranks highest on most benchmarks**: Free version | $1.25 / 1 M tokens\n",
    "    - 2.0 Flash: Free version | $0.10 / 1 M tokens\n",
    "* Claude\n",
    "    - 3.7 Sonnet, **strong coding/reasoning abilities**: $3 / 1 M tokens\n",
    "* OpenAI\n",
    "    - o3, most powerful reasoning model: $2 / 1 M tokens\n",
    "    - 4o, standard model, good price/perf balance: $2.5 / 1 M tokens\n"
   ]
  }
 ],
 "metadata": {
  "kernelspec": {
   "display_name": "Python 3",
   "language": "python",
   "name": "python3"
  },
  "language_info": {
   "codemirror_mode": {
    "name": "ipython",
    "version": 3
   },
   "file_extension": ".py",
   "mimetype": "text/x-python",
   "name": "python",
   "nbconvert_exporter": "python",
   "pygments_lexer": "ipython3",
   "version": "3.11.2"
  }
 },
 "nbformat": 4,
 "nbformat_minor": 2
}
